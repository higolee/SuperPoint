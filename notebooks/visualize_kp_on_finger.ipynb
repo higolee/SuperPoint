{
 "cells": [
  {
   "cell_type": "code",
   "execution_count": 1,
   "metadata": {},
   "outputs": [],
   "source": [
    "import numpy as np\n",
    "from pathlib import Path\n",
    "import cv2\n",
    "import os\n",
    "\n",
    "from superpoint.settings import DATA_PATH, EXPER_PATH\n",
    "\n",
    "from notebooks.utils import plot_imgs\n",
    "%matplotlib inline\n",
    "%load_ext autoreload\n",
    "%autoreload 2"
   ]
  },
  {
   "cell_type": "code",
   "execution_count": 2,
   "metadata": {},
   "outputs": [],
   "source": [
    "exp_name = 'magic-point_finger-export2'\n",
    "img_root = Path(DATA_PATH, 'finger','bounding_box_train')\n",
    "kp_root = Path(EXPER_PATH, 'outputs', exp_name)\n",
    "out_root = Path(EXPER_PATH, 'outputs', f'{exp_name}_ann')\n",
    "if not os.path.exists(out_root):\n",
    "    os.mkdir(out_root)\n",
    "for img_fn in img_root.glob('*.png'):\n",
    "    img = cv2.imread(str(img_fn))\n",
    "    img = cv2.resize(img, (176,176))\n",
    "    stem = img_fn.stem\n",
    "    kp_fn = Path(kp_root, f'{stem}.npz')\n",
    "    d = np.load(str(kp_fn))\n",
    "    points = d['points']\n",
    "    for p in points:\n",
    "        img = cv2.circle(img, (p[1],p[0]), 3, (0,255,0), 1)\n",
    "    \n",
    "    cv2.imwrite(str(Path(out_root, f'{stem}.jpg')), img)\n",
    "\n",
    "\n"
   ]
  },
  {
   "cell_type": "code",
   "execution_count": 4,
   "metadata": {},
   "outputs": [],
   "source": [
    "N_min = 10000\n",
    "img_root = Path(DATA_PATH, 'finger','bounding_box_train')\n",
    "min_root = Path(DATA_PATH, 'finger','bounding_box_train_min')\n",
    "if not os.path.exists(min_root):\n",
    "    os.mkdir(min_root)\n",
    "\n",
    "from shutil import copy\n",
    "img_fns = list(img_root.glob('*.png'))\n",
    "ids = np.random.permutation(len(img_fns))\n",
    "ids[:N_min]\n",
    "#img_min = img_fns[ids[:N_min]]\n",
    "for i in range(N_min):\n",
    "    img = img_fns[ids[i]]\n",
    "    dest_fn = Path(min_root, f'{i}.png')\n",
    "    copy(img, dest_fn)\n",
    "    \n"
   ]
  },
  {
   "cell_type": "code",
   "execution_count": null,
   "metadata": {},
   "outputs": [],
   "source": []
  }
 ],
 "metadata": {
  "kernelspec": {
   "display_name": "Python 3",
   "language": "python",
   "name": "python3"
  },
  "language_info": {
   "codemirror_mode": {
    "name": "ipython",
    "version": 3
   },
   "file_extension": ".py",
   "mimetype": "text/x-python",
   "name": "python",
   "nbconvert_exporter": "python",
   "pygments_lexer": "ipython3",
   "version": "3.6.4"
  }
 },
 "nbformat": 4,
 "nbformat_minor": 2
}